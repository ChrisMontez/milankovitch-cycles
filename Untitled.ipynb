{
 "cells": [
  {
   "cell_type": "code",
   "execution_count": 1,
   "metadata": {},
   "outputs": [],
   "source": [
    "import numpy as np\n",
    "import pandas as pd\n",
    "import matplotlib.pyplot as plt\n",
    "%matplotlib inline"
   ]
  },
  {
   "cell_type": "code",
   "execution_count": 5,
   "metadata": {},
   "outputs": [],
   "source": [
    "df = pd.read_csv('data.csv')"
   ]
  },
  {
   "cell_type": "code",
   "execution_count": 17,
   "metadata": {},
   "outputs": [
    {
     "data": {
      "text/html": [
       "<div>\n",
       "<style scoped>\n",
       "    .dataframe tbody tr th:only-of-type {\n",
       "        vertical-align: middle;\n",
       "    }\n",
       "\n",
       "    .dataframe tbody tr th {\n",
       "        vertical-align: top;\n",
       "    }\n",
       "\n",
       "    .dataframe thead th {\n",
       "        text-align: right;\n",
       "    }\n",
       "</style>\n",
       "<table border=\"1\" class=\"dataframe\">\n",
       "  <thead>\n",
       "    <tr style=\"text-align: right;\">\n",
       "      <th></th>\n",
       "      <th>years</th>\n",
       "      <th>years (5k)</th>\n",
       "      <th>100k cycle (radians)</th>\n",
       "      <th>40k cycle (radians)</th>\n",
       "      <th>22k cycle (radians)</th>\n",
       "      <th>100k period</th>\n",
       "      <th>40k period</th>\n",
       "      <th>22k period</th>\n",
       "      <th>composite</th>\n",
       "    </tr>\n",
       "  </thead>\n",
       "  <tbody>\n",
       "    <tr>\n",
       "      <th>0</th>\n",
       "      <td>400000</td>\n",
       "      <td>0</td>\n",
       "      <td>0.000000</td>\n",
       "      <td>0.000000</td>\n",
       "      <td>0.000000</td>\n",
       "      <td>0.000000</td>\n",
       "      <td>0.005236</td>\n",
       "      <td>0.006981</td>\n",
       "      <td>0.012217</td>\n",
       "    </tr>\n",
       "    <tr>\n",
       "      <th>1</th>\n",
       "      <td>395000</td>\n",
       "      <td>1</td>\n",
       "      <td>0.314159</td>\n",
       "      <td>0.785398</td>\n",
       "      <td>1.427997</td>\n",
       "      <td>0.309017</td>\n",
       "      <td>0.215802</td>\n",
       "      <td>0.396862</td>\n",
       "      <td>0.921681</td>\n",
       "    </tr>\n",
       "    <tr>\n",
       "      <th>2</th>\n",
       "      <td>390000</td>\n",
       "      <td>2</td>\n",
       "      <td>0.628319</td>\n",
       "      <td>1.570796</td>\n",
       "      <td>2.855993</td>\n",
       "      <td>0.587785</td>\n",
       "      <td>0.299954</td>\n",
       "      <td>0.105978</td>\n",
       "      <td>0.993717</td>\n",
       "    </tr>\n",
       "    <tr>\n",
       "      <th>3</th>\n",
       "      <td>385000</td>\n",
       "      <td>3</td>\n",
       "      <td>0.942478</td>\n",
       "      <td>2.356194</td>\n",
       "      <td>4.283990</td>\n",
       "      <td>0.809017</td>\n",
       "      <td>0.208398</td>\n",
       "      <td>-0.366697</td>\n",
       "      <td>0.650717</td>\n",
       "    </tr>\n",
       "    <tr>\n",
       "      <th>4</th>\n",
       "      <td>380000</td>\n",
       "      <td>4</td>\n",
       "      <td>1.256637</td>\n",
       "      <td>3.141593</td>\n",
       "      <td>5.711987</td>\n",
       "      <td>0.951057</td>\n",
       "      <td>-0.005236</td>\n",
       "      <td>-0.210351</td>\n",
       "      <td>0.735470</td>\n",
       "    </tr>\n",
       "  </tbody>\n",
       "</table>\n",
       "</div>"
      ],
      "text/plain": [
       "    years  years (5k)  100k cycle (radians)  40k cycle (radians)  \\\n",
       "0  400000           0              0.000000             0.000000   \n",
       "1  395000           1              0.314159             0.785398   \n",
       "2  390000           2              0.628319             1.570796   \n",
       "3  385000           3              0.942478             2.356194   \n",
       "4  380000           4              1.256637             3.141593   \n",
       "\n",
       "   22k cycle (radians)  100k period  40k period  22k period  composite  \n",
       "0             0.000000     0.000000    0.005236    0.006981   0.012217  \n",
       "1             1.427997     0.309017    0.215802    0.396862   0.921681  \n",
       "2             2.855993     0.587785    0.299954    0.105978   0.993717  \n",
       "3             4.283990     0.809017    0.208398   -0.366697   0.650717  \n",
       "4             5.711987     0.951057   -0.005236   -0.210351   0.735470  "
      ]
     },
     "execution_count": 17,
     "metadata": {},
     "output_type": "execute_result"
    }
   ],
   "source": [
    "df.head()"
   ]
  },
  {
   "cell_type": "code",
   "execution_count": 48,
   "metadata": {},
   "outputs": [
    {
     "data": {
      "text/plain": [
       "<matplotlib.collections.PathCollection at 0x1faf0e59e88>"
      ]
     },
     "execution_count": 48,
     "metadata": {},
     "output_type": "execute_result"
    },
    {
     "data": {
      "image/png": "[encoded data removed]",
      "text/plain": [
       "<Figure size 432x288 with 1 Axes>"
      ]
     },
     "metadata": {
      "needs_background": "light"
     },
     "output_type": "display_data"
    }
   ],
   "source": [
    "plt.scatter(x = [df['years']], y = ([df['100k cycle (radians)']]))\n",
    "plt.scatter(x = [df['years']], y = ([df['40k cycle (radians)']]))\n",
    "plt.scatter(x = [df['years']], y = ([df['22k cycle (radians)']]))"
   ]
  },
  {
   "cell_type": "code",
   "execution_count": null,
   "metadata": {},
   "outputs": [],
   "source": []
  },
  {
   "cell_type": "code",
   "execution_count": null,
   "metadata": {},
   "outputs": [],
   "source": []
  }
 ],
 "metadata": {
  "kernelspec": {
   "display_name": "Python 3",
   "language": "python",
   "name": "python3"
  },
  "language_info": {
   "codemirror_mode": {
    "name": "ipython",
    "version": 3
   },
   "file_extension": ".py",
   "mimetype": "text/x-python",
   "name": "python",
   "nbconvert_exporter": "python",
   "pygments_lexer": "ipython3",
   "version": "3.7.7"
  }
 },
 "nbformat": 4,
 "nbformat_minor": 4
}
