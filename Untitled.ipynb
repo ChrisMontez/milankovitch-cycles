{
 "cells": [
  {
   "cell_type": "code",
   "execution_count": 1,
   "metadata": {},
   "outputs": [],
   "source": [
    "import numpy as np\n",
    "import pandas as pd\n",
    "import matplotlib.pyplot as plt\n",
    "%matplotlib inline"
   ]
  },
  {
   "cell_type": "code",
   "execution_count": 3,
   "metadata": {},
   "outputs": [],
   "source": [
    "df = pd.read_csv('data.csv')"
   ]
  },
  {
   "cell_type": "code",
   "execution_count": 4,
   "metadata": {},
   "outputs": [
    {
     "data": {
      "text/html": [
       "<div>\n",
       "<style scoped>\n",
       "    .dataframe tbody tr th:only-of-type {\n",
       "        vertical-align: middle;\n",
       "    }\n",
       "\n",
       "    .dataframe tbody tr th {\n",
       "        vertical-align: top;\n",
       "    }\n",
       "\n",
       "    .dataframe thead th {\n",
       "        text-align: right;\n",
       "    }\n",
       "</style>\n",
       "<table border=\"1\" class=\"dataframe\">\n",
       "  <thead>\n",
       "    <tr style=\"text-align: right;\">\n",
       "      <th></th>\n",
       "      <th>Unnamed: 0</th>\n",
       "      <th>Unnamed: 1</th>\n",
       "      <th>100k cycle</th>\n",
       "      <th>40k cycle</th>\n",
       "      <th>22k cycle</th>\n",
       "      <th>Unnamed: 5</th>\n",
       "      <th>Unnamed: 6</th>\n",
       "      <th>Unnamed: 7</th>\n",
       "      <th>Unnamed: 8</th>\n",
       "      <th>Unnamed: 9</th>\n",
       "    </tr>\n",
       "  </thead>\n",
       "  <tbody>\n",
       "    <tr>\n",
       "      <th>0</th>\n",
       "      <td>years</td>\n",
       "      <td>years (5k)</td>\n",
       "      <td>radians</td>\n",
       "      <td>NaN</td>\n",
       "      <td>NaN</td>\n",
       "      <td>NaN</td>\n",
       "      <td>100k period</td>\n",
       "      <td>40k period</td>\n",
       "      <td>22k period</td>\n",
       "      <td>composite</td>\n",
       "    </tr>\n",
       "    <tr>\n",
       "      <th>1</th>\n",
       "      <td>400000</td>\n",
       "      <td>0</td>\n",
       "      <td>0</td>\n",
       "      <td>0.000000</td>\n",
       "      <td>0.000000</td>\n",
       "      <td>NaN</td>\n",
       "      <td>0</td>\n",
       "      <td>0.005235722</td>\n",
       "      <td>0.006980963</td>\n",
       "      <td>0.012216685</td>\n",
       "    </tr>\n",
       "    <tr>\n",
       "      <th>2</th>\n",
       "      <td>395000</td>\n",
       "      <td>1</td>\n",
       "      <td>0.314159265</td>\n",
       "      <td>0.785398</td>\n",
       "      <td>1.427997</td>\n",
       "      <td>NaN</td>\n",
       "      <td>0.309016994</td>\n",
       "      <td>0.21580194</td>\n",
       "      <td>0.39686177</td>\n",
       "      <td>0.921680704</td>\n",
       "    </tr>\n",
       "    <tr>\n",
       "      <th>3</th>\n",
       "      <td>390000</td>\n",
       "      <td>2</td>\n",
       "      <td>0.628318531</td>\n",
       "      <td>1.570796</td>\n",
       "      <td>2.855993</td>\n",
       "      <td>NaN</td>\n",
       "      <td>0.587785252</td>\n",
       "      <td>0.299954309</td>\n",
       "      <td>0.105977675</td>\n",
       "      <td>0.993717235</td>\n",
       "    </tr>\n",
       "    <tr>\n",
       "      <th>4</th>\n",
       "      <td>385000</td>\n",
       "      <td>3</td>\n",
       "      <td>0.942477796</td>\n",
       "      <td>2.356194</td>\n",
       "      <td>4.283990</td>\n",
       "      <td>NaN</td>\n",
       "      <td>0.809016994</td>\n",
       "      <td>0.208397511</td>\n",
       "      <td>-0.366697378</td>\n",
       "      <td>0.650717127</td>\n",
       "    </tr>\n",
       "  </tbody>\n",
       "</table>\n",
       "</div>"
      ],
      "text/plain": [
       "  Unnamed: 0  Unnamed: 1   100k cycle  40k cycle  22k cycle  Unnamed: 5  \\\n",
       "0      years  years (5k)      radians        NaN        NaN         NaN   \n",
       "1     400000           0            0   0.000000   0.000000         NaN   \n",
       "2     395000           1  0.314159265   0.785398   1.427997         NaN   \n",
       "3     390000           2  0.628318531   1.570796   2.855993         NaN   \n",
       "4     385000           3  0.942477796   2.356194   4.283990         NaN   \n",
       "\n",
       "    Unnamed: 6   Unnamed: 7    Unnamed: 8   Unnamed: 9  \n",
       "0  100k period   40k period    22k period    composite  \n",
       "1            0  0.005235722   0.006980963  0.012216685  \n",
       "2  0.309016994   0.21580194    0.39686177  0.921680704  \n",
       "3  0.587785252  0.299954309   0.105977675  0.993717235  \n",
       "4  0.809016994  0.208397511  -0.366697378  0.650717127  "
      ]
     },
     "execution_count": 4,
     "metadata": {},
     "output_type": "execute_result"
    }
   ],
   "source": [
    "df.head()"
   ]
  },
  {
   "cell_type": "code",
   "execution_count": null,
   "metadata": {},
   "outputs": [],
   "source": []
  }
 ],
 "metadata": {
  "kernelspec": {
   "display_name": "Python 3",
   "language": "python",
   "name": "python3"
  },
  "language_info": {
   "codemirror_mode": {
    "name": "ipython",
    "version": 3
   },
   "file_extension": ".py",
   "mimetype": "text/x-python",
   "name": "python",
   "nbconvert_exporter": "python",
   "pygments_lexer": "ipython3",
   "version": "3.7.7"
  }
 },
 "nbformat": 4,
 "nbformat_minor": 4
}
